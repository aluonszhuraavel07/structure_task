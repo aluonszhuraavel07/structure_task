{
  "nbformat": 4,
  "nbformat_minor": 0,
  "metadata": {
    "colab": {
      "provenance": [],
      "authorship_tag": "ABX9TyOo0jgSy85GQQq+QmIUgdO9",
      "include_colab_link": true
    },
    "kernelspec": {
      "name": "python3",
      "display_name": "Python 3"
    },
    "language_info": {
      "name": "python"
    }
  },
  "cells": [
    {
      "cell_type": "markdown",
      "metadata": {
        "id": "view-in-github",
        "colab_type": "text"
      },
      "source": [
        "<a href=\"https://colab.research.google.com/github/aluonszhuraavel07/structure_task/blob/main/my_structure.ipynb\" target=\"_parent\"><img src=\"https://colab.research.google.com/assets/colab-badge.svg\" alt=\"Open In Colab\"/></a>"
      ]
    },
    {
      "cell_type": "code",
      "source": [
        "#1\n",
        "teams = [\n",
        "    {'name': 'Team A', 'перемоги': 10, 'поразки': 2, 'нічії': 3},\n",
        "    {'name': 'Team B', 'перемоги': 15, 'поразки': 1, 'нічії': 1},\n",
        "    {'name': 'Team C', 'перемоги': 7, 'поразки': 5, 'нічії': 2}\n",
        "]\n",
        "\n",
        "max_wins_team = max(teams, key=lambda t: t['перемоги'])\n",
        "print(max_wins_team['name'])\n"
      ],
      "metadata": {
        "colab": {
          "base_uri": "https://localhost:8080/"
        },
        "id": "CyaVCZEn1fZL",
        "outputId": "87c80cd3-6cf3-45eb-f62a-8dfdc7e4642b"
      },
      "execution_count": 9,
      "outputs": [
        {
          "output_type": "stream",
          "name": "stdout",
          "text": [
            "Team B\n"
          ]
        }
      ]
    },
    {
      "cell_type": "code",
      "source": [
        "class Team:\n",
        "    name = \"\"\n",
        "    wins = 0\n",
        "    losses = 0\n",
        "    draws = 0\n",
        "\n",
        "teams = [\n",
        "    Team(), Team(), Team()\n",
        "]\n",
        "\n",
        "teams[0].name = 'Team A'; teams[0].wins = 10;  teams[0].losses = 2; teams[0].draws = 3\n",
        "teams[1].name = 'Team B'; teams[1].wins = 15; teams[1].losses = 1; teams[1].draws = 1\n",
        "teams[2].name = 'Team C'; teams[2].wins = 7; teams[2].losses = 5; teams[2].draws = 2\n",
        "\n",
        "max_team = max(teams, key=lambda t: t.wins)\n",
        "print(max_team.name)\n"
      ],
      "metadata": {
        "colab": {
          "base_uri": "https://localhost:8080/"
        },
        "id": "mImRHKTA1lG2",
        "outputId": "bb0efb73-187f-46dd-9f6e-b7f4aeebb4d3"
      },
      "execution_count": 10,
      "outputs": [
        {
          "output_type": "stream",
          "name": "stdout",
          "text": [
            "Team B\n"
          ]
        }
      ]
    },
    {
      "cell_type": "code",
      "source": [
        "#2\n",
        "students = [\n",
        "    {'name': 'Адамлюк Владислав Романович', 'course': 1, 'group': '1СОМ', 'birth_year': 2005},\n",
        "    {'name': 'Журавель Альона Олександрівна', 'course': 1, 'group': '1СОМ', 'birth_year': 2007},\n",
        "    {'name': 'Черешня Станіслав Сергійович ', 'course': 1, 'group': '1СОМ', 'birth_year': 2006},\n",
        "    {'name': 'Калінін Євген Олексійович', 'course': 1, 'group': '1СОМ', 'birth_year': 2001}\n",
        "\n",
        "]\n",
        "\n",
        "youngest = max(students, key=lambda s: s['birth_year'])\n",
        "print(youngest['name'])\n"
      ],
      "metadata": {
        "colab": {
          "base_uri": "https://localhost:8080/"
        },
        "id": "4Kn93LnG10Aj",
        "outputId": "b6f5b993-d0de-4e60-c730-622359f8ea31"
      },
      "execution_count": 15,
      "outputs": [
        {
          "output_type": "stream",
          "name": "stdout",
          "text": [
            "Журавель Альона Олександрівна\n"
          ]
        }
      ]
    },
    {
      "cell_type": "code",
      "source": [
        "class Student:\n",
        "    name = \"\"\n",
        "    course = 0\n",
        "    group = \"\"\n",
        "    birth_year = 0\n",
        "\n",
        "students = [Student(), Student(), Student(), Student()]\n",
        "\n",
        "students[0].name = 'Адамлюк Владислав Романович'; students[0].birth_year = 2005\n",
        "students[1].name = 'Журавель Альона Олександрівна'; students[1].birth_year = 2007\n",
        "students[2].name = 'Черешня Станіслав Сергійович'; students[2].birth_year = 2006\n",
        "students[3].name = 'Калінін Євген Олексійович'; students[3].birth_year = 2001\n",
        "\n",
        "youngest = max(students, key=lambda s: s.birth_year)\n",
        "print(youngest.name)\n"
      ],
      "metadata": {
        "colab": {
          "base_uri": "https://localhost:8080/"
        },
        "id": "EXmAPDb8_rfB",
        "outputId": "cf7dc667-ca71-4f2b-f3db-88d87c22ac0f"
      },
      "execution_count": 17,
      "outputs": [
        {
          "output_type": "stream",
          "name": "stdout",
          "text": [
            "Журавель Альона Олександрівна\n"
          ]
        }
      ]
    }
  ]
}